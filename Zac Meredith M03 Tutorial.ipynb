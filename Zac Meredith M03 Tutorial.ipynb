{
 "cells": [
  {
   "cell_type": "markdown",
   "id": "59f49d45",
   "metadata": {},
   "source": [
    "OOP Programming"
   ]
  },
  {
   "cell_type": "code",
   "execution_count": 2,
   "id": "fc807f21",
   "metadata": {},
   "outputs": [],
   "source": [
    "class Solution:\n",
    "    def sort012(self,arr,n):\n",
    "        low=0\n",
    "        high=n-1\n",
    "        mid=0\n",
    "        while mid<=high:\n",
    "            if arr[mid]==0:\n",
    "                arr[mid] , arr[low] = arr[low] , arr[mid]\n",
    "                mid+=1\n",
    "                low+=1\n",
    "            elif arr[mid]==1:\n",
    "                mid+=1\n",
    "            else:\n",
    "                arr[mid] , arr[high] = arr[high] , arr[mid]\n",
    "                high-=1"
   ]
  },
  {
   "cell_type": "markdown",
   "id": "7fa52a1b",
   "metadata": {},
   "source": [
    "Functional Programming"
   ]
  },
  {
   "cell_type": "code",
   "execution_count": 3,
   "id": "9a671726",
   "metadata": {},
   "outputs": [
    {
     "name": "stdout",
     "output_type": "stream",
     "text": [
      "Element is present at index  3\n"
     ]
    }
   ],
   "source": [
    "def binarySearch(arr, l, r, x):\n",
    "    while l <= r:\n",
    "        mid = l + (r - l) // 2\n",
    "        if arr[mid] == x:\n",
    "            return mid\n",
    "        elif arr[mid] < x:\n",
    "            l = mid + 1\n",
    "        else:\n",
    "            r = mid - 1\n",
    "    return -1\n",
    "arr = [2, 3, 4, 10, 40]\n",
    "\n",
    "x = 10\n",
    "\n",
    "result = binarySearch(arr, 0, len(arr)-1, x)\n",
    "\n",
    "if result != -1:\n",
    "    print(\"Element is present at index % d\" % result)\n",
    "else:\n",
    "    print(\"Element is not present in array\")"
   ]
  },
  {
   "cell_type": "code",
   "execution_count": null,
   "id": "21c1834c",
   "metadata": {},
   "outputs": [],
   "source": []
  }
 ],
 "metadata": {
  "kernelspec": {
   "display_name": "Python 3 (ipykernel)",
   "language": "python",
   "name": "python3"
  },
  "language_info": {
   "codemirror_mode": {
    "name": "ipython",
    "version": 3
   },
   "file_extension": ".py",
   "mimetype": "text/x-python",
   "name": "python",
   "nbconvert_exporter": "python",
   "pygments_lexer": "ipython3",
   "version": "3.11.5"
  }
 },
 "nbformat": 4,
 "nbformat_minor": 5
}
